{
 "cells": [
  {
   "cell_type": "markdown",
   "metadata": {},
   "source": [
    "# Next Word Models\n",
    "\n",
    "You can see the thought process behind creating each and every models that i create "
   ]
  },
  {
   "cell_type": "markdown",
   "metadata": {},
   "source": [
    "## Importing dependencies"
   ]
  },
  {
   "cell_type": "code",
   "execution_count": 66,
   "metadata": {},
   "outputs": [],
   "source": [
    "from keras.models import Sequential, Model\n",
    "from keras.layers import Dropout, Dense, LSTM"
   ]
  },
  {
   "cell_type": "code",
   "execution_count": 50,
   "metadata": {},
   "outputs": [],
   "source": [
    "import numpy as np"
   ]
  },
  {
   "cell_type": "code",
   "execution_count": 51,
   "metadata": {},
   "outputs": [],
   "source": [
    "from ModelBuilds import createModel "
   ]
  },
  {
   "cell_type": "markdown",
   "metadata": {},
   "source": [
    "## Setting up dummy data to test model"
   ]
  },
  {
   "cell_type": "code",
   "execution_count": 52,
   "metadata": {},
   "outputs": [],
   "source": [
    "dataset = np.random.randint(0, 24, (100, 25))"
   ]
  },
  {
   "cell_type": "code",
   "execution_count": 53,
   "metadata": {},
   "outputs": [],
   "source": [
    "def cm(model, name):\n",
    "    return createModel(25, 100, 100, model, name)"
   ]
  },
  {
   "cell_type": "markdown",
   "metadata": {},
   "source": [
    "## Model 1\n",
    "\n",
    "This model use LSTM layer with 500 outputs and combination of DenseLayer, supposed to be the small lstm model"
   ]
  },
  {
   "cell_type": "code",
   "execution_count": 54,
   "metadata": {},
   "outputs": [],
   "source": [
    "model1 = Sequential(\n",
    "    [\n",
    "        LSTM(300),\n",
    "        Dropout(0.6),\n",
    "        Dense(1000, \"tanh\"),\n",
    "        Dense(1000, \"tanh\"),\n",
    "        Dropout(0.75)\n",
    "    ], name=\"small_lstm_model\"\n",
    ")"
   ]
  },
  {
   "cell_type": "code",
   "execution_count": 55,
   "metadata": {},
   "outputs": [],
   "source": [
    "m1 = cm(model1, \"small_lstm_model\")"
   ]
  },
  {
   "cell_type": "code",
   "execution_count": 56,
   "metadata": {},
   "outputs": [
    {
     "name": "stdout",
     "output_type": "stream",
     "text": [
      "4/4 [==============================] - 4s 49ms/step\n"
     ]
    },
    {
     "data": {
      "text/plain": [
       "array([[0.009913  , 0.01002808, 0.00997622, ..., 0.01000432, 0.00997433,\n",
       "        0.00989965],\n",
       "       [0.00994565, 0.01003811, 0.00995415, ..., 0.00998796, 0.00997888,\n",
       "        0.00996999],\n",
       "       [0.01000428, 0.0100622 , 0.0099769 , ..., 0.01001633, 0.01006089,\n",
       "        0.00998831],\n",
       "       ...,\n",
       "       [0.00999442, 0.01005561, 0.01004613, ..., 0.00995145, 0.0100293 ,\n",
       "        0.00988623],\n",
       "       [0.00999823, 0.01001214, 0.01000943, ..., 0.01000034, 0.00994665,\n",
       "        0.01001745],\n",
       "       [0.00989208, 0.01005054, 0.00995116, ..., 0.00999595, 0.00997002,\n",
       "        0.00997192]], dtype=float32)"
      ]
     },
     "execution_count": 56,
     "metadata": {},
     "output_type": "execute_result"
    }
   ],
   "source": [
    "m1.predict(dataset)"
   ]
  },
  {
   "cell_type": "markdown",
   "metadata": {},
   "source": [
    "# Model 2 \n",
    "\n",
    "Uses higher number of outputs from lstm layer than small"
   ]
  },
  {
   "cell_type": "code",
   "execution_count": 57,
   "metadata": {},
   "outputs": [],
   "source": [
    "model2 = Sequential(\n",
    "    [\n",
    "        LSTM(650),\n",
    "        Dropout(0.6),\n",
    "        Dense(500, \"tanh\"),\n",
    "        Dropout(0.6),\n",
    "        Dense(1000, \"tanh\"),\n",
    "        Dropout(0.6),\n",
    "        Dense(1500, \"tanh\"),\n",
    "        Dropout(0.75)\n",
    "    ], name=\"medium_lstm_model\"\n",
    ")"
   ]
  },
  {
   "cell_type": "code",
   "execution_count": 58,
   "metadata": {},
   "outputs": [],
   "source": [
    "m2 =cm(model2, \"medium_lstm_model\")"
   ]
  },
  {
   "cell_type": "code",
   "execution_count": 59,
   "metadata": {},
   "outputs": [
    {
     "name": "stdout",
     "output_type": "stream",
     "text": [
      "Model: \"medium_lstm_model\"\n",
      "_________________________________________________________________\n",
      " Layer (type)                Output Shape              Param #   \n",
      "=================================================================\n",
      " input_layer (InputLayer)    [(None, 25)]              0         \n",
      "                                                                 \n",
      " embedding_layer (Embedding  (None, 25, 100)           10000     \n",
      " )                                                               \n",
      "                                                                 \n",
      " medium_lstm_model (Sequent  (None, 1500)              4280600   \n",
      " ial)                                                            \n",
      "                                                                 \n",
      " output (Dense)              (None, 100)               150100    \n",
      "                                                                 \n",
      "=================================================================\n",
      "Total params: 4440700 (16.94 MB)\n",
      "Trainable params: 4440700 (16.94 MB)\n",
      "Non-trainable params: 0 (0.00 Byte)\n",
      "_________________________________________________________________\n"
     ]
    }
   ],
   "source": [
    "m2.summary()"
   ]
  },
  {
   "cell_type": "markdown",
   "metadata": {},
   "source": [
    "## Model 3\n",
    "\n",
    "Uses higher number of lstm layers than medium layer\n"
   ]
  },
  {
   "cell_type": "code",
   "execution_count": 60,
   "metadata": {},
   "outputs": [],
   "source": [
    "model3 = Sequential(\n",
    "    [\n",
    "        LSTM(1000),\n",
    "        Dropout(0.6),\n",
    "        Dense(500, \"tanh\"),\n",
    "        Dropout(0.6),\n",
    "        Dense(1000, \"tanh\"),\n",
    "        Dropout(0.6),\n",
    "        Dense(1500, \"tanh\"),\n",
    "        Dropout(0.6),\n",
    "        Dense(1500, \"tanh\"),\n",
    "        Dropout(0.6),\n",
    "        Dense(1500, \"tanh\"),\n",
    "        Dropout(0.75)\n",
    "    ], name=\"large_lstm_model\"\n",
    ")"
   ]
  },
  {
   "cell_type": "code",
   "execution_count": 61,
   "metadata": {},
   "outputs": [],
   "source": [
    "m3 =cm(model3, \"large_lstm_model\")"
   ]
  },
  {
   "cell_type": "code",
   "execution_count": 62,
   "metadata": {},
   "outputs": [
    {
     "name": "stdout",
     "output_type": "stream",
     "text": [
      "Model: \"large_lstm_model\"\n",
      "_________________________________________________________________\n",
      " Layer (type)                Output Shape              Param #   \n",
      "=================================================================\n",
      " input_layer (InputLayer)    [(None, 25)]              0         \n",
      "                                                                 \n",
      " embedding_layer (Embedding  (None, 25, 100)           10000     \n",
      " )                                                               \n",
      "                                                                 \n",
      " large_lstm_model (Sequenti  (None, 1500)              11410000  \n",
      " al)                                                             \n",
      "                                                                 \n",
      " output (Dense)              (None, 100)               150100    \n",
      "                                                                 \n",
      "=================================================================\n",
      "Total params: 11570100 (44.14 MB)\n",
      "Trainable params: 11570100 (44.14 MB)\n",
      "Non-trainable params: 0 (0.00 Byte)\n",
      "_________________________________________________________________\n"
     ]
    }
   ],
   "source": [
    "m3.summary()"
   ]
  },
  {
   "cell_type": "markdown",
   "metadata": {},
   "source": [
    "# Model 4\n",
    "Really small model with only lstm"
   ]
  },
  {
   "cell_type": "code",
   "execution_count": 63,
   "metadata": {},
   "outputs": [],
   "source": [
    "model4 = Sequential(\n",
    "    [\n",
    "        LSTM(200),\n",
    "        Dropout(0.75)\n",
    "    ], name=\"very_small_lstm\"\n",
    ")"
   ]
  },
  {
   "cell_type": "code",
   "execution_count": 64,
   "metadata": {},
   "outputs": [],
   "source": [
    "m4 =cm(model4, \"very_small_lstm\")"
   ]
  },
  {
   "cell_type": "code",
   "execution_count": 65,
   "metadata": {},
   "outputs": [
    {
     "name": "stdout",
     "output_type": "stream",
     "text": [
      "Model: \"very_small_lstm\"\n",
      "_________________________________________________________________\n",
      " Layer (type)                Output Shape              Param #   \n",
      "=================================================================\n",
      " input_layer (InputLayer)    [(None, 25)]              0         \n",
      "                                                                 \n",
      " embedding_layer (Embedding  (None, 25, 100)           10000     \n",
      " )                                                               \n",
      "                                                                 \n",
      " very_small_lstm (Sequentia  (None, 200)               240800    \n",
      " l)                                                              \n",
      "                                                                 \n",
      " output (Dense)              (None, 100)               20100     \n",
      "                                                                 \n",
      "=================================================================\n",
      "Total params: 270900 (1.03 MB)\n",
      "Trainable params: 270900 (1.03 MB)\n",
      "Non-trainable params: 0 (0.00 Byte)\n",
      "_________________________________________________________________\n"
     ]
    }
   ],
   "source": [
    "m4.summary()"
   ]
  },
  {
   "cell_type": "code",
   "execution_count": 67,
   "metadata": {},
   "outputs": [],
   "source": [
    "def getModels() -> list[Model]:\n",
    "    \"\"\"\n",
    "    Dummy function to copy paste for getting all the models\n",
    "    \"\"\"\n",
    "    \n",
    "    model1 = Sequential(\n",
    "    [\n",
    "        LSTM(300),\n",
    "        Dropout(0.6),\n",
    "        Dense(1000, \"tanh\"),\n",
    "        Dense(1000, \"tanh\"),\n",
    "        Dropout(0.75)\n",
    "    ], name=\"small_lstm_model\"\n",
    "    )\n",
    "\n",
    "    model2 = Sequential(\n",
    "    [\n",
    "        LSTM(650),\n",
    "        Dropout(0.6),\n",
    "        Dense(500, \"tanh\"),\n",
    "        Dropout(0.6),\n",
    "        Dense(1000, \"tanh\"),\n",
    "        Dropout(0.6),\n",
    "        Dense(1500, \"tanh\"),\n",
    "        Dropout(0.75)\n",
    "    ], name=\"medium_lstm_model\"\n",
    "    )\n",
    "\n",
    "    model3 = Sequential(\n",
    "    [\n",
    "        LSTM(1000),\n",
    "        Dropout(0.6),\n",
    "        Dense(500, \"tanh\"),\n",
    "        Dropout(0.6),\n",
    "        Dense(1000, \"tanh\"),\n",
    "        Dropout(0.6),\n",
    "        Dense(1500, \"tanh\"),\n",
    "        Dropout(0.6),\n",
    "        Dense(1500, \"tanh\"),\n",
    "        Dropout(0.6),\n",
    "        Dense(1500, \"tanh\"),\n",
    "        Dropout(0.75)\n",
    "    ], name=\"large_lstm_model\"\n",
    "    )\n",
    "\n",
    "    model4 = Sequential(\n",
    "    [\n",
    "        LSTM(200),\n",
    "        Dropout(0.75)\n",
    "    ], name=\"very_small_lstm\"\n",
    "    )\n",
    "\n",
    "    return [model1, model2, model3, model4]"
   ]
  }
 ],
 "metadata": {
  "kernelspec": {
   "display_name": "venv",
   "language": "python",
   "name": "python3"
  },
  "language_info": {
   "codemirror_mode": {
    "name": "ipython",
    "version": 3
   },
   "file_extension": ".py",
   "mimetype": "text/x-python",
   "name": "python",
   "nbconvert_exporter": "python",
   "pygments_lexer": "ipython3",
   "version": "3.10.9"
  }
 },
 "nbformat": 4,
 "nbformat_minor": 2
}
