{
 "cells": [
  {
   "cell_type": "markdown",
   "metadata": {},
   "source": [
    "# Data loading\n",
    "\n",
    "Experimenting with methods for loading data "
   ]
  },
  {
   "cell_type": "code",
   "execution_count": 1,
   "metadata": {},
   "outputs": [],
   "source": [
    "import sys\n",
    "sys.path.append('../src/')\n"
   ]
  },
  {
   "cell_type": "code",
   "execution_count": 2,
   "metadata": {},
   "outputs": [],
   "source": [
    "from Tokenizer import NLPTokenizer"
   ]
  },
  {
   "cell_type": "code",
   "execution_count": 3,
   "metadata": {},
   "outputs": [],
   "source": [
    "a = NLPTokenizer(\"../data/tokenizer/tokens.json\", 80)"
   ]
  },
  {
   "cell_type": "code",
   "execution_count": 4,
   "metadata": {},
   "outputs": [
    {
     "data": {
      "text/plain": [
       "array([[   -1,    -1,    -1,    -1,    -1,    -1,    -1,    -1,    -1,\n",
       "           -1,    -1,    -1,    -1,    -1,    -1,    -1,    -1,    -1,\n",
       "           -1,    -1,    -1,    -1,    -1,    -1,    -1,    -1,    -1,\n",
       "           -1,    -1,    -1,    -1,    -1,    -1,    -1,    -1,    -1,\n",
       "           -1,    -1,    -1,    -1,    -1,    -1,    -1,    -1,    -1,\n",
       "           -1,    -1,    -1,    -1, 28513,  1329,     9,  1551,  1948,\n",
       "          476, 20432,   413,     9,   778,   882,   476,    59,  7189,\n",
       "         1928,     9,   537,  1022,     9, 14850,  7015,   563,   990,\n",
       "          231,   231,   231,     9, 17302,   461, 14850, 18124]])"
      ]
     },
     "execution_count": 4,
     "metadata": {},
     "output_type": "execute_result"
    }
   ],
   "source": [
    "a.encode(\"hello there, my name is ivan, this world is a complex place, haha, random sentence go brrrr, stupidly random sequence\")"
   ]
  },
  {
   "cell_type": "markdown",
   "metadata": {},
   "source": [
    "## Experimenting with preparing data input"
   ]
  },
  {
   "cell_type": "code",
   "execution_count": 5,
   "metadata": {},
   "outputs": [],
   "source": [
    "import numpy as np"
   ]
  },
  {
   "cell_type": "code",
   "execution_count": 6,
   "metadata": {},
   "outputs": [],
   "source": [
    "randomSentence = \"In this grand adventure, space exploration inspires not only scientists and engineers but also dreamers and visionaries who look to the stars and see a future filled with endless possibilities. The journey into the unknown is marked by setbacks and triumphs, but it is a journey worth taking, for it is a testament to the indomitable spirit of humanity and our unyielding quest to explore, discover, and reach for the stars.\""
   ]
  },
  {
   "cell_type": "code",
   "execution_count": 20,
   "metadata": {},
   "outputs": [],
   "source": [
    "def trainEncode(text:str, size:int=80):\n",
    "    encodedMatrix = a.encode(text, False)\n",
    "    newEncodedMatrix = []\n",
    "    for vector in encodedMatrix:\n",
    "        for i in range(1, len(vector)):\n",
    "            start = max(0, i-size)\n",
    "            data = vector[start:i]\n",
    "            if len(data) < size:\n",
    "                data = np.pad(data, (size-len(data), 0), 'constant', constant_values=-1)\n",
    "            newEncodedMatrix.append(data)\n",
    "    \n",
    "    return np.vstack(newEncodedMatrix)"
   ]
  },
  {
   "cell_type": "code",
   "execution_count": 21,
   "metadata": {},
   "outputs": [],
   "source": [
    "z = trainEncode(randomSentence)"
   ]
  },
  {
   "cell_type": "code",
   "execution_count": 23,
   "metadata": {},
   "outputs": [
    {
     "data": {
      "text/plain": [
       "(88, 80)"
      ]
     },
     "execution_count": 23,
     "metadata": {},
     "output_type": "execute_result"
    }
   ],
   "source": [
    "z.shape"
   ]
  }
 ],
 "metadata": {
  "kernelspec": {
   "display_name": "venv",
   "language": "python",
   "name": "python3"
  },
  "language_info": {
   "codemirror_mode": {
    "name": "ipython",
    "version": 3
   },
   "file_extension": ".py",
   "mimetype": "text/x-python",
   "name": "python",
   "nbconvert_exporter": "python",
   "pygments_lexer": "ipython3",
   "version": "3.10.5"
  }
 },
 "nbformat": 4,
 "nbformat_minor": 2
}
