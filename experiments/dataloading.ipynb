{
 "cells": [
  {
   "cell_type": "markdown",
   "metadata": {},
   "source": [
    "# Data loading\n",
    "\n",
    "Experimenting with methods for loading data "
   ]
  },
  {
   "cell_type": "code",
   "execution_count": 1,
   "metadata": {},
   "outputs": [],
   "source": [
    "import sys\n",
    "sys.path.append('../src/')\n"
   ]
  },
  {
   "cell_type": "code",
   "execution_count": 2,
   "metadata": {},
   "outputs": [],
   "source": [
    "from Tokenizer import NLPTokenizer"
   ]
  },
  {
   "cell_type": "code",
   "execution_count": 84,
   "metadata": {},
   "outputs": [],
   "source": [
    "a = NLPTokenizer(\"../data/tokenizer/tokens.json\", 10)"
   ]
  },
  {
   "cell_type": "code",
   "execution_count": 85,
   "metadata": {},
   "outputs": [
    {
     "data": {
      "text/plain": [
       "array([[28513,  1329,     9,  1551,  1948,   476, 20432,   413,     9,\n",
       "          778],\n",
       "       [  882,   476,    59,  7189,  1928,     9,   537,  1022,     9,\n",
       "        14850],\n",
       "       [ 7015,   563,   990,   231,   231,   231,     9, 17302,   461,\n",
       "        14850],\n",
       "       [   -1,    -1,    -1,    -1,    -1,    -1,    -1,    -1,    -1,\n",
       "        18124]])"
      ]
     },
     "execution_count": 85,
     "metadata": {},
     "output_type": "execute_result"
    }
   ],
   "source": [
    "a.encode(\"hello there, my name is ivan, this world is a complex place, haha, random sentence go brrrr, stupidly random sequence\")"
   ]
  },
  {
   "cell_type": "markdown",
   "metadata": {},
   "source": [
    "## Experimenting with preparing data input"
   ]
  },
  {
   "cell_type": "code",
   "execution_count": 86,
   "metadata": {},
   "outputs": [],
   "source": [
    "import numpy as np"
   ]
  },
  {
   "cell_type": "code",
   "execution_count": 87,
   "metadata": {},
   "outputs": [],
   "source": [
    "randomSentence = \"What do you even mean?.\""
   ]
  },
  {
   "cell_type": "code",
   "execution_count": 88,
   "metadata": {},
   "outputs": [],
   "source": [
    "def trainEncode(text:str, size:int=10):\n",
    "    encodedMatrix = a.encode(text, False)\n",
    "    x = []\n",
    "    y = []\n",
    "    for vector in encodedMatrix:\n",
    "        for i in range(1, len(vector)):\n",
    "            start = max(0, i-size)\n",
    "            data = vector[start:i]\n",
    "            if len(data) < size:\n",
    "                data = np.pad(data, (size-len(data), 0), 'constant', constant_values=-1)\n",
    "            x.append(data)\n",
    "            y.append(vector[i])\n",
    "    \n",
    "    return np.vstack(x).astype(np.int32), np.array(y, dtype=np.int32)"
   ]
  },
  {
   "cell_type": "code",
   "execution_count": 89,
   "metadata": {},
   "outputs": [],
   "source": [
    "x, y = trainEncode(randomSentence)"
   ]
  },
  {
   "cell_type": "code",
   "execution_count": 90,
   "metadata": {},
   "outputs": [
    {
     "data": {
      "text/plain": [
       "((6, 10), (6,))"
      ]
     },
     "execution_count": 90,
     "metadata": {},
     "output_type": "execute_result"
    }
   ],
   "source": [
    "x.shape, y.shape"
   ]
  },
  {
   "cell_type": "code",
   "execution_count": null,
   "metadata": {},
   "outputs": [],
   "source": []
  }
 ],
 "metadata": {
  "kernelspec": {
   "display_name": "venv",
   "language": "python",
   "name": "python3"
  },
  "language_info": {
   "codemirror_mode": {
    "name": "ipython",
    "version": 3
   },
   "file_extension": ".py",
   "mimetype": "text/x-python",
   "name": "python",
   "nbconvert_exporter": "python",
   "pygments_lexer": "ipython3",
   "version": "3.10.5"
  }
 },
 "nbformat": 4,
 "nbformat_minor": 2
}
