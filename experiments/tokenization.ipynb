{
 "cells": [
  {
   "cell_type": "markdown",
   "metadata": {},
   "source": [
    "## Experiments with tokenization stuff"
   ]
  },
  {
   "cell_type": "markdown",
   "metadata": {},
   "source": [
    "## Preparing Tokenizer"
   ]
  },
  {
   "cell_type": "code",
   "execution_count": 1,
   "metadata": {},
   "outputs": [],
   "source": [
    "from tokenizers import Tokenizer, models, trainers, pre_tokenizers, decoders"
   ]
  },
  {
   "cell_type": "code",
   "execution_count": 2,
   "metadata": {},
   "outputs": [],
   "source": [
    "tokenizer = Tokenizer(models.WordPiece())\n",
    "\n",
    "# Create a new WordPiece tokenizer"
   ]
  },
  {
   "cell_type": "code",
   "execution_count": 3,
   "metadata": {},
   "outputs": [],
   "source": [
    "trainer = trainers.WordPieceTrainer(\n",
    "    vocab_size=50000,  # Set the vocabulary size\n",
    "    special_tokens=[\"[PAD]\", \"[CLS]\", \"[SEP]\", \"[MASK]\", \"[UNK]\"]  # Special tokens\n",
    ")\n",
    "\n",
    "# Training the tokenizer on a corpus"
   ]
  },
  {
   "cell_type": "code",
   "execution_count": 4,
   "metadata": {},
   "outputs": [],
   "source": [
    "tokenizer.pre_tokenizer = pre_tokenizers.Whitespace()\n",
    "\n",
    "# Pre-tokenization (e.g., whitespace tokenization)"
   ]
  },
  {
   "cell_type": "markdown",
   "metadata": {},
   "source": [
    "## Loading data"
   ]
  },
  {
   "cell_type": "code",
   "execution_count": 6,
   "metadata": {},
   "outputs": [],
   "source": [
    "import pandas as pd"
   ]
  },
  {
   "cell_type": "code",
   "execution_count": 11,
   "metadata": {},
   "outputs": [],
   "source": [
    "df = pd.read_csv('../data/preprocessed/preprocessed.csv')"
   ]
  },
  {
   "cell_type": "code",
   "execution_count": 13,
   "metadata": {},
   "outputs": [],
   "source": [
    "data = df['0'].to_list()"
   ]
  },
  {
   "cell_type": "code",
   "execution_count": 14,
   "metadata": {},
   "outputs": [
    {
     "data": {
      "text/plain": [
       "110208"
      ]
     },
     "execution_count": 14,
     "metadata": {},
     "output_type": "execute_result"
    }
   ],
   "source": [
    "len(data)"
   ]
  },
  {
   "cell_type": "code",
   "execution_count": 15,
   "metadata": {},
   "outputs": [],
   "source": [
    "tokenizer.train_from_iterator(data)"
   ]
  },
  {
   "cell_type": "code",
   "execution_count": 18,
   "metadata": {},
   "outputs": [],
   "source": [
    "# tokenizer.save(\"../data/tokenizer/tokens.json\")\n",
    "\n",
    "# commented out to avoid accidental run"
   ]
  },
  {
   "cell_type": "code",
   "execution_count": 19,
   "metadata": {},
   "outputs": [],
   "source": [
    "import numpy as np"
   ]
  },
  {
   "cell_type": "code",
   "execution_count": null,
   "metadata": {},
   "outputs": [],
   "source": [
    "def pad(tokens:list[int], sequenceLength:int):\n",
    "    \"\"\"\n",
    "    Adds padding to vector, so it has the same length of `sequenceLength`\n",
    "    \"\"\"\n",
    "    if len(tokens) > sequenceLength:\n",
    "        raise ValueError(f\"The given text should contain less than {sequenceLength} not {len(tokens)}\")\n",
    "    \n",
    "    if len(tokens) < sequenceLength:\n",
    "        tokens = np.pad(tokens, (sequenceLength-len(tokens), 0), 'constant')\n",
    "\n",
    "    return tokens"
   ]
  },
  {
   "cell_type": "code",
   "execution_count": 20,
   "metadata": {},
   "outputs": [],
   "source": [
    "def tokenize(text:str, tokenizer:Tokenizer, sequenceLength:int, shouldPad=True):\n",
    "    \"\"\"\n",
    "    Tokenizes a text and return a matrix of shape, (n, sequenceLength)\n",
    "\n",
    "    Here `n` is dependant on the length of text\n",
    "    `n = len(tokenizer.encode(text).ids) % sequenceLength`\n",
    "    \"\"\"\n",
    "\n",
    "    tokens = tokenizer.encode(text).ids\n",
    "\n",
    "    tokens = [tokens[i:i+sequenceLength] for i in range(0, len(tokens), sequenceLength)]\n",
    "\n",
    "    if shouldPad:\n",
    "        return np.stack( list( map( lambda x: pad(x, sequenceLength), tokens ) ), axis=0)\n",
    "    else:\n",
    "        return tokens\n",
    "    "
   ]
  },
  {
   "cell_type": "code",
   "execution_count": 23,
   "metadata": {},
   "outputs": [
    {
     "data": {
      "text/plain": [
       "144"
      ]
     },
     "execution_count": 23,
     "metadata": {},
     "output_type": "execute_result"
    }
   ],
   "source": [
    "max(map(lambda x:len(tokenizer.encode(x).ids), data))\n",
    "\n",
    "# seeing the maximum amout of tokens "
   ]
  },
  {
   "cell_type": "markdown",
   "metadata": {},
   "source": [
    "Every vectorizer models will be consisting of max 150 tokens"
   ]
  }
 ],
 "metadata": {
  "kernelspec": {
   "display_name": "venv",
   "language": "python",
   "name": "python3"
  },
  "language_info": {
   "codemirror_mode": {
    "name": "ipython",
    "version": 3
   },
   "file_extension": ".py",
   "mimetype": "text/x-python",
   "name": "python",
   "nbconvert_exporter": "python",
   "pygments_lexer": "ipython3",
   "version": "3.10.5"
  }
 },
 "nbformat": 4,
 "nbformat_minor": 2
}
